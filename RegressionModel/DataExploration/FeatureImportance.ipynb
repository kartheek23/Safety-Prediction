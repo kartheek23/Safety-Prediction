{
 "cells": [
  {
   "cell_type": "code",
   "execution_count": 3,
   "metadata": {},
   "outputs": [],
   "source": [
    "from xgboost import plot_importance\n",
    "from xgboost.sklearn import XGBClassifier\n",
    "from sklearn.model_selection import train_test_split\n",
    "import pandas as pd\n",
    "import os\n",
    "parDir = os.path.normpath(os.getcwd() + os.sep + os.pardir)\n",
    "from matplotlib  import pyplot\n",
    "from sklearn import metrics\n",
    "from sklearn.metrics import classification_report\n",
    "from sklearn.metrics import confusion_matrix\n",
    "import cloudpickle"
   ]
  },
  {
   "cell_type": "code",
   "execution_count": 4,
   "metadata": {},
   "outputs": [],
   "source": [
    "merDSDit = parDir + \"\\\\DataSets\\\\MergedDataset\\\\Final.csv\"\n",
    "pickleDumpDir = parDir + \"\\\\trained_models\\\\model_v1.pkl\""
   ]
  },
  {
   "cell_type": "code",
   "execution_count": 5,
   "metadata": {},
   "outputs": [],
   "source": [
    "inputCols=['bookingID','Accuracy','Bearing','acceleration_x','acceleration_y',\n",
    "           'acceleration_z','gyro_x','gyro_y','gyro_z','second','Speed']\n",
    "targetCol='label'"
   ]
  },
  {
   "cell_type": "code",
   "execution_count": 6,
   "metadata": {},
   "outputs": [],
   "source": [
    "df=pd.read_csv(merDSDit)"
   ]
  },
  {
   "cell_type": "code",
   "execution_count": 7,
   "metadata": {},
   "outputs": [],
   "source": [
    "X_train,X_test,y_train,y_test = train_test_split(df[inputCols],df[targetCol],\n",
    "                                                test_size=0.1,random_state=3)\n",
    "#XGB Classifier\n",
    "xgb1 = XGBClassifier(\n",
    " learning_rate=0.3,\n",
    " n_estimators=20,\n",
    " max_depth=20,\n",
    " verbosity=2,\n",
    " min_child_weight=1,\n",
    " gamma=0,\n",
    " subsample=0.5,\n",
    " colsample_bytree=0.8,\n",
    " objective= 'binary:logistic',\n",
    " scoring=\"roc_auc\",\n",
    " n_jobs=-1,\n",
    " reg_alpha=1,\n",
    " )"
   ]
  },
  {
   "cell_type": "code",
   "execution_count": 6,
   "metadata": {},
   "outputs": [
    {
     "name": "stdout",
     "output_type": "stream",
     "text": [
      "[21:41:19] Tree method is automatically selected to be 'approx' for faster speed. To use old behavior (exact greedy algorithm on single machine), set tree_method to 'exact'.\n",
      "[0]\tvalidation_0-auc:0.785913\n",
      "Will train until validation_0-auc hasn't improved in 10 rounds.\n",
      "[1]\tvalidation_0-auc:0.807163\n",
      "[2]\tvalidation_0-auc:0.83535\n",
      "[3]\tvalidation_0-auc:0.851752\n",
      "[4]\tvalidation_0-auc:0.86375\n",
      "[5]\tvalidation_0-auc:0.86985\n",
      "[6]\tvalidation_0-auc:0.874936\n",
      "[7]\tvalidation_0-auc:0.880073\n",
      "[8]\tvalidation_0-auc:0.885799\n",
      "[9]\tvalidation_0-auc:0.887451\n",
      "[10]\tvalidation_0-auc:0.889853\n",
      "[11]\tvalidation_0-auc:0.894071\n",
      "[12]\tvalidation_0-auc:0.896884\n",
      "[13]\tvalidation_0-auc:0.901704\n",
      "[14]\tvalidation_0-auc:0.90616\n",
      "[15]\tvalidation_0-auc:0.908201\n",
      "[16]\tvalidation_0-auc:0.908526\n",
      "[17]\tvalidation_0-auc:0.908283\n",
      "[18]\tvalidation_0-auc:0.910806\n",
      "[19]\tvalidation_0-auc:0.913755\n"
     ]
    }
   ],
   "source": [
    "bst=xgb1.fit(X_train, y_train,early_stopping_rounds=10,eval_set=[(X_test,y_test)],eval_metric='auc',verbose=True)\n"
   ]
  },
  {
   "cell_type": "code",
   "execution_count": 7,
   "metadata": {},
   "outputs": [
    {
     "data": {
      "image/png": "[encoded data removed]",
      "text/plain": [
       "<Figure size 432x288 with 1 Axes>"
      ]
     },
     "metadata": {},
     "output_type": "display_data"
    }
   ],
   "source": [
    "plot_importance(bst)\n",
    "pyplot.show()"
   ]
  },
  {
   "cell_type": "code",
   "execution_count": 10,
   "metadata": {},
   "outputs": [
    {
     "name": "stdout",
     "output_type": "stream",
     "text": [
      "0.949649635891024\n",
      "              precision    recall  f1-score   support\n",
      "\n",
      "           0       0.86      0.89      0.88   4445533\n",
      "           1       0.89      0.85      0.87   4444434\n",
      "\n",
      "   micro avg       0.87      0.87      0.87   8889967\n",
      "   macro avg       0.87      0.87      0.87   8889967\n",
      "weighted avg       0.87      0.87      0.87   8889967\n",
      "\n",
      "[[3976628  468905]\n",
      " [ 665461 3778973]]\n",
      "0.9137545925895664\n",
      "              precision    recall  f1-score   support\n",
      "\n",
      "           0       0.81      0.85      0.83    493338\n",
      "           1       0.84      0.81      0.82    494437\n",
      "\n",
      "   micro avg       0.83      0.83      0.83    987775\n",
      "   macro avg       0.83      0.83      0.83    987775\n",
      "weighted avg       0.83      0.83      0.83    987775\n",
      "\n",
      "[[419204  74134]\n",
      " [ 95853 398584]]\n"
     ]
    }
   ],
   "source": [
    "dtrain_prediction = xgb1.predict(X_train)\n",
    "dtrain_predproba = xgb1.predict_proba(X_train)[:,1]\n",
    "\n",
    "print(metrics.roc_auc_score(y_train,dtrain_predproba))\n",
    "print(classification_report(y_train,pd.DataFrame(dtrain_prediction)))\n",
    "print(confusion_matrix(y_train,pd.DataFrame(dtrain_prediction)))\n",
    "\n",
    "\n",
    "dtest_prediction = xgb1.predict(X_test)\n",
    "dtest_predproba =xgb1.predict_proba(X_test)[:,1]\n",
    "\n",
    "print(metrics.roc_auc_score(y_test,dtest_predproba))\n",
    "print(classification_report(y_test,pd.DataFrame(dtest_prediction)))\n",
    "print(confusion_matrix(y_test,pd.DataFrame(dtest_prediction)))"
   ]
  },
  {
   "cell_type": "markdown",
   "metadata": {},
   "source": [
    "# As we can observe the auc still seems to be increasing on the validation set, so let us increase the number of rounds to 40 and check"
   ]
  },
  {
   "cell_type": "code",
   "execution_count": 11,
   "metadata": {},
   "outputs": [],
   "source": [
    "#XGB Classifier\n",
    "xgb2 = XGBClassifier(\n",
    " learning_rate=0.3,\n",
    " n_estimators=40,\n",
    " max_depth=20,\n",
    " verbosity=2,\n",
    " min_child_weight=1,\n",
    " gamma=0,\n",
    " subsample=0.5,\n",
    " colsample_bytree=0.8,\n",
    " objective= 'binary:logistic',\n",
    " scoring=\"roc_auc\",\n",
    " n_jobs=-1,\n",
    " reg_alpha=1\n",
    " )"
   ]
  },
  {
   "cell_type": "code",
   "execution_count": 12,
   "metadata": {},
   "outputs": [
    {
     "name": "stdout",
     "output_type": "stream",
     "text": [
      "[22:13:37] Tree method is automatically selected to be 'approx' for faster speed. To use old behavior (exact greedy algorithm on single machine), set tree_method to 'exact'.\n",
      "[0]\tvalidation_0-auc:0.785913\n",
      "Will train until validation_0-auc hasn't improved in 5 rounds.\n",
      "[1]\tvalidation_0-auc:0.807163\n",
      "[2]\tvalidation_0-auc:0.83535\n",
      "[3]\tvalidation_0-auc:0.851752\n",
      "[4]\tvalidation_0-auc:0.86375\n",
      "[5]\tvalidation_0-auc:0.86985\n",
      "[6]\tvalidation_0-auc:0.874936\n",
      "[7]\tvalidation_0-auc:0.880073\n",
      "[8]\tvalidation_0-auc:0.885799\n",
      "[9]\tvalidation_0-auc:0.887451\n",
      "[10]\tvalidation_0-auc:0.889853\n",
      "[11]\tvalidation_0-auc:0.894071\n",
      "[12]\tvalidation_0-auc:0.896884\n",
      "[13]\tvalidation_0-auc:0.901704\n",
      "[14]\tvalidation_0-auc:0.90616\n",
      "[15]\tvalidation_0-auc:0.908201\n",
      "[16]\tvalidation_0-auc:0.908526\n",
      "[17]\tvalidation_0-auc:0.908283\n",
      "[18]\tvalidation_0-auc:0.910806\n",
      "[19]\tvalidation_0-auc:0.913755\n",
      "[20]\tvalidation_0-auc:0.914037\n",
      "[21]\tvalidation_0-auc:0.917274\n",
      "[22]\tvalidation_0-auc:0.91693\n",
      "[23]\tvalidation_0-auc:0.917184\n",
      "[24]\tvalidation_0-auc:0.919083\n",
      "[25]\tvalidation_0-auc:0.922573\n",
      "[26]\tvalidation_0-auc:0.924462\n",
      "[27]\tvalidation_0-auc:0.924753\n",
      "[28]\tvalidation_0-auc:0.925541\n",
      "[29]\tvalidation_0-auc:0.927529\n",
      "[30]\tvalidation_0-auc:0.927536\n",
      "[31]\tvalidation_0-auc:0.928357\n",
      "[32]\tvalidation_0-auc:0.929926\n",
      "[33]\tvalidation_0-auc:0.930826\n",
      "[34]\tvalidation_0-auc:0.932203\n",
      "[35]\tvalidation_0-auc:0.932989\n",
      "[36]\tvalidation_0-auc:0.933693\n",
      "[37]\tvalidation_0-auc:0.935562\n",
      "[38]\tvalidation_0-auc:0.935355\n",
      "[39]\tvalidation_0-auc:0.936259\n"
     ]
    }
   ],
   "source": [
    "bst=xgb2.fit(X_train, y_train,early_stopping_rounds=5,eval_set=[(X_test,y_test)],eval_metric='auc',verbose=True)"
   ]
  },
  {
   "cell_type": "code",
   "execution_count": 13,
   "metadata": {},
   "outputs": [
    {
     "data": {
      "image/png": "[encoded data removed]",
      "text/plain": [
       "<Figure size 432x288 with 1 Axes>"
      ]
     },
     "metadata": {},
     "output_type": "display_data"
    }
   ],
   "source": [
    "plot_importance(bst)\n",
    "pyplot.show()"
   ]
  },
  {
   "cell_type": "code",
   "execution_count": 15,
   "metadata": {},
   "outputs": [
    {
     "name": "stdout",
     "output_type": "stream",
     "text": [
      "0.9797860817594273\n",
      "              precision    recall  f1-score   support\n",
      "\n",
      "           0       0.91      0.94      0.92   4445533\n",
      "           1       0.93      0.91      0.92   4444434\n",
      "\n",
      "   micro avg       0.92      0.92      0.92   8889967\n",
      "   macro avg       0.92      0.92      0.92   8889967\n",
      "weighted avg       0.92      0.92      0.92   8889967\n",
      "\n",
      "[[4162781  282752]\n",
      " [ 399231 4045203]]\n",
      "0.9362589337027037\n",
      "              precision    recall  f1-score   support\n",
      "\n",
      "           0       0.84      0.87      0.86    493338\n",
      "           1       0.87      0.84      0.85    494437\n",
      "\n",
      "   micro avg       0.85      0.85      0.85    987775\n",
      "   macro avg       0.85      0.85      0.85    987775\n",
      "weighted avg       0.85      0.85      0.85    987775\n",
      "\n",
      "[[429085  64253]\n",
      " [ 79529 414908]]\n"
     ]
    }
   ],
   "source": [
    "dtrain_prediction = xgb2.predict(X_train)\n",
    "dtrain_predproba = xgb2.predict_proba(X_train)[:,1]\n",
    "\n",
    "print(metrics.roc_auc_score(y_train,dtrain_predproba))\n",
    "print(classification_report(y_train,pd.DataFrame(dtrain_prediction)))\n",
    "print(confusion_matrix(y_train,pd.DataFrame(dtrain_prediction)))\n",
    "\n",
    "\n",
    "dtest_prediction = xgb2.predict(X_test)\n",
    "dtest_predproba =xgb2.predict_proba(X_test)[:,1]\n",
    "\n",
    "print(metrics.roc_auc_score(y_test,dtest_predproba))\n",
    "print(classification_report(y_test,pd.DataFrame(dtest_prediction)))\n",
    "print(confusion_matrix(y_test,pd.DataFrame(dtest_prediction)))"
   ]
  },
  {
   "cell_type": "markdown",
   "metadata": {},
   "source": [
    "#We will increase the n_estimators to 250 and early stopping rounds to 5 and then continue the process."
   ]
  },
  {
   "cell_type": "code",
   "execution_count": 16,
   "metadata": {},
   "outputs": [],
   "source": [
    "#XGB Classifier\n",
    "xgb3 = XGBClassifier(\n",
    " learning_rate=0.3,\n",
    " n_estimators=250,\n",
    " max_depth=20,\n",
    " verbosity=2,\n",
    " min_child_weight=1,\n",
    " gamma=0,\n",
    " subsample=0.5,\n",
    " colsample_bytree=0.8,\n",
    " objective= 'binary:logistic',\n",
    " scoring=\"roc_auc\",\n",
    " n_jobs=-1,\n",
    " reg_alpha=1\n",
    " )"
   ]
  },
  {
   "cell_type": "code",
   "execution_count": 17,
   "metadata": {},
   "outputs": [
    {
     "name": "stdout",
     "output_type": "stream",
     "text": [
      "[23:11:39] Tree method is automatically selected to be 'approx' for faster speed. To use old behavior (exact greedy algorithm on single machine), set tree_method to 'exact'.\n",
      "[0]\tvalidation_0-auc:0.785913\n",
      "Will train until validation_0-auc hasn't improved in 5 rounds.\n",
      "[1]\tvalidation_0-auc:0.807163\n",
      "[2]\tvalidation_0-auc:0.83535\n",
      "[3]\tvalidation_0-auc:0.851752\n",
      "[4]\tvalidation_0-auc:0.86375\n",
      "[5]\tvalidation_0-auc:0.86985\n",
      "[6]\tvalidation_0-auc:0.874936\n",
      "[7]\tvalidation_0-auc:0.880073\n",
      "[8]\tvalidation_0-auc:0.885799\n",
      "[9]\tvalidation_0-auc:0.887451\n",
      "[10]\tvalidation_0-auc:0.889853\n",
      "[11]\tvalidation_0-auc:0.894071\n",
      "[12]\tvalidation_0-auc:0.896884\n",
      "[13]\tvalidation_0-auc:0.901704\n",
      "[14]\tvalidation_0-auc:0.90616\n",
      "[15]\tvalidation_0-auc:0.908201\n",
      "[16]\tvalidation_0-auc:0.908526\n",
      "[17]\tvalidation_0-auc:0.908283\n",
      "[18]\tvalidation_0-auc:0.910806\n",
      "[19]\tvalidation_0-auc:0.913755\n",
      "[20]\tvalidation_0-auc:0.914037\n",
      "[21]\tvalidation_0-auc:0.917274\n",
      "[22]\tvalidation_0-auc:0.91693\n",
      "[23]\tvalidation_0-auc:0.917184\n",
      "[24]\tvalidation_0-auc:0.919083\n",
      "[25]\tvalidation_0-auc:0.922573\n",
      "[26]\tvalidation_0-auc:0.924462\n",
      "[27]\tvalidation_0-auc:0.924753\n",
      "[28]\tvalidation_0-auc:0.925541\n",
      "[29]\tvalidation_0-auc:0.927529\n",
      "[30]\tvalidation_0-auc:0.927536\n",
      "[31]\tvalidation_0-auc:0.928357\n",
      "[32]\tvalidation_0-auc:0.929926\n",
      "[33]\tvalidation_0-auc:0.930826\n",
      "[34]\tvalidation_0-auc:0.932203\n",
      "[35]\tvalidation_0-auc:0.932989\n",
      "[36]\tvalidation_0-auc:0.933693\n",
      "[37]\tvalidation_0-auc:0.935562\n",
      "[38]\tvalidation_0-auc:0.935355\n",
      "[39]\tvalidation_0-auc:0.936259\n",
      "[40]\tvalidation_0-auc:0.937699\n",
      "[41]\tvalidation_0-auc:0.937732\n",
      "[42]\tvalidation_0-auc:0.93758\n",
      "[43]\tvalidation_0-auc:0.938753\n",
      "[44]\tvalidation_0-auc:0.940111\n",
      "[45]\tvalidation_0-auc:0.941144\n",
      "[46]\tvalidation_0-auc:0.942191\n",
      "[47]\tvalidation_0-auc:0.943064\n",
      "[48]\tvalidation_0-auc:0.943701\n",
      "[49]\tvalidation_0-auc:0.943532\n",
      "[50]\tvalidation_0-auc:0.944168\n",
      "[51]\tvalidation_0-auc:0.944468\n",
      "[52]\tvalidation_0-auc:0.945555\n",
      "[53]\tvalidation_0-auc:0.945478\n",
      "[54]\tvalidation_0-auc:0.94622\n",
      "[55]\tvalidation_0-auc:0.946554\n",
      "[56]\tvalidation_0-auc:0.946361\n",
      "[57]\tvalidation_0-auc:0.946815\n",
      "[58]\tvalidation_0-auc:0.94739\n",
      "[59]\tvalidation_0-auc:0.947201\n",
      "[60]\tvalidation_0-auc:0.948017\n",
      "[61]\tvalidation_0-auc:0.947929\n",
      "[62]\tvalidation_0-auc:0.949458\n",
      "[63]\tvalidation_0-auc:0.950078\n",
      "[64]\tvalidation_0-auc:0.950501\n",
      "[65]\tvalidation_0-auc:0.950715\n",
      "[66]\tvalidation_0-auc:0.951691\n",
      "[67]\tvalidation_0-auc:0.952456\n",
      "[68]\tvalidation_0-auc:0.952654\n",
      "[69]\tvalidation_0-auc:0.953353\n",
      "[70]\tvalidation_0-auc:0.953497\n",
      "[71]\tvalidation_0-auc:0.953387\n",
      "[72]\tvalidation_0-auc:0.953258\n",
      "[73]\tvalidation_0-auc:0.953412\n",
      "[74]\tvalidation_0-auc:0.953528\n",
      "[75]\tvalidation_0-auc:0.9534\n",
      "[76]\tvalidation_0-auc:0.953247\n",
      "[77]\tvalidation_0-auc:0.953944\n",
      "[78]\tvalidation_0-auc:0.953831\n",
      "[79]\tvalidation_0-auc:0.954025\n",
      "[80]\tvalidation_0-auc:0.953943\n",
      "[81]\tvalidation_0-auc:0.953798\n",
      "[82]\tvalidation_0-auc:0.954056\n",
      "[83]\tvalidation_0-auc:0.954156\n",
      "[84]\tvalidation_0-auc:0.954118\n",
      "[85]\tvalidation_0-auc:0.954216\n",
      "[86]\tvalidation_0-auc:0.954401\n",
      "[87]\tvalidation_0-auc:0.954982\n",
      "[88]\tvalidation_0-auc:0.955405\n",
      "[89]\tvalidation_0-auc:0.955707\n",
      "[90]\tvalidation_0-auc:0.956236\n",
      "[91]\tvalidation_0-auc:0.956377\n",
      "[92]\tvalidation_0-auc:0.956333\n",
      "[93]\tvalidation_0-auc:0.956922\n",
      "[94]\tvalidation_0-auc:0.957288\n",
      "[95]\tvalidation_0-auc:0.957653\n",
      "[96]\tvalidation_0-auc:0.957536\n",
      "[97]\tvalidation_0-auc:0.957853\n",
      "[98]\tvalidation_0-auc:0.958247\n",
      "[99]\tvalidation_0-auc:0.958415\n",
      "[100]\tvalidation_0-auc:0.958803\n",
      "[101]\tvalidation_0-auc:0.958665\n",
      "[102]\tvalidation_0-auc:0.959043\n",
      "[103]\tvalidation_0-auc:0.95921\n",
      "[104]\tvalidation_0-auc:0.959397\n",
      "[105]\tvalidation_0-auc:0.959563\n",
      "[106]\tvalidation_0-auc:0.960152\n",
      "[107]\tvalidation_0-auc:0.960045\n",
      "[108]\tvalidation_0-auc:0.95993\n",
      "[109]\tvalidation_0-auc:0.960119\n",
      "[110]\tvalidation_0-auc:0.960142\n",
      "[111]\tvalidation_0-auc:0.960262\n",
      "[112]\tvalidation_0-auc:0.960346\n",
      "[113]\tvalidation_0-auc:0.960516\n",
      "[114]\tvalidation_0-auc:0.96066\n",
      "[115]\tvalidation_0-auc:0.960532\n",
      "[116]\tvalidation_0-auc:0.960575\n",
      "[117]\tvalidation_0-auc:0.961117\n",
      "[118]\tvalidation_0-auc:0.961047\n",
      "[119]\tvalidation_0-auc:0.961305\n",
      "[120]\tvalidation_0-auc:0.961206\n",
      "[121]\tvalidation_0-auc:0.961431\n",
      "[122]\tvalidation_0-auc:0.961876\n",
      "[123]\tvalidation_0-auc:0.962068\n",
      "[124]\tvalidation_0-auc:0.96212\n",
      "[125]\tvalidation_0-auc:0.962085\n",
      "[126]\tvalidation_0-auc:0.962228\n",
      "[127]\tvalidation_0-auc:0.962131\n",
      "[128]\tvalidation_0-auc:0.962242\n",
      "[129]\tvalidation_0-auc:0.962592\n",
      "[130]\tvalidation_0-auc:0.962529\n",
      "[131]\tvalidation_0-auc:0.962604\n",
      "[132]\tvalidation_0-auc:0.962907\n",
      "[133]\tvalidation_0-auc:0.962821\n",
      "[134]\tvalidation_0-auc:0.962834\n",
      "[135]\tvalidation_0-auc:0.962774\n",
      "[136]\tvalidation_0-auc:0.962858\n",
      "[137]\tvalidation_0-auc:0.963136\n",
      "[138]\tvalidation_0-auc:0.963313\n",
      "[139]\tvalidation_0-auc:0.963347\n",
      "[140]\tvalidation_0-auc:0.963343\n",
      "[141]\tvalidation_0-auc:0.963317\n",
      "[142]\tvalidation_0-auc:0.963262\n",
      "[143]\tvalidation_0-auc:0.963282\n",
      "[144]\tvalidation_0-auc:0.963227\n",
      "Stopping. Best iteration:\n",
      "[139]\tvalidation_0-auc:0.963347\n",
      "\n"
     ]
    }
   ],
   "source": [
    "bst3=xgb3.fit(X_train, y_train,early_stopping_rounds=5,eval_set=[(X_test,y_test)],eval_metric='auc',verbose=True)"
   ]
  },
  {
   "cell_type": "code",
   "execution_count": 18,
   "metadata": {},
   "outputs": [
    {
     "data": {
      "image/png": "[encoded data removed]",
      "text/plain": [
       "<Figure size 432x288 with 1 Axes>"
      ]
     },
     "metadata": {},
     "output_type": "display_data"
    }
   ],
   "source": [
    "plot_importance(bst3)\n",
    "pyplot.show()"
   ]
  },
  {
   "cell_type": "code",
   "execution_count": 19,
   "metadata": {},
   "outputs": [
    {
     "name": "stdout",
     "output_type": "stream",
     "text": [
      "0.9996825379793683\n",
      "              precision    recall  f1-score   support\n",
      "\n",
      "           0       0.99      0.99      0.99   4445533\n",
      "           1       0.99      0.99      0.99   4444434\n",
      "\n",
      "   micro avg       0.99      0.99      0.99   8889967\n",
      "   macro avg       0.99      0.99      0.99   8889967\n",
      "weighted avg       0.99      0.99      0.99   8889967\n",
      "\n",
      "[[4416761   28772]\n",
      " [  39403 4405031]]\n",
      "0.963347025092008\n",
      "              precision    recall  f1-score   support\n",
      "\n",
      "           0       0.89      0.90      0.89    493338\n",
      "           1       0.90      0.89      0.89    494437\n",
      "\n",
      "   micro avg       0.89      0.89      0.89    987775\n",
      "   macro avg       0.89      0.89      0.89    987775\n",
      "weighted avg       0.89      0.89      0.89    987775\n",
      "\n",
      "[[444897  48441]\n",
      " [ 56575 437862]]\n"
     ]
    }
   ],
   "source": [
    "dtrain_prediction = xgb3.predict(X_train)\n",
    "dtrain_predproba = xgb3.predict_proba(X_train)[:,1]\n",
    "\n",
    "print(metrics.roc_auc_score(y_train,dtrain_predproba))\n",
    "print(classification_report(y_train,pd.DataFrame(dtrain_prediction)))\n",
    "print(confusion_matrix(y_train,pd.DataFrame(dtrain_prediction)))\n",
    "\n",
    "\n",
    "dtest_prediction = xgb3.predict(X_test)\n",
    "dtest_predproba =xgb3.predict_proba(X_test)[:,1]\n",
    "\n",
    "print(metrics.roc_auc_score(y_test,dtest_predproba))\n",
    "print(classification_report(y_test,pd.DataFrame(dtest_prediction)))\n",
    "print(confusion_matrix(y_test,pd.DataFrame(dtest_prediction)))"
   ]
  },
  {
   "cell_type": "code",
   "execution_count": 22,
   "metadata": {},
   "outputs": [],
   "source": [
    "with open(pickleDumpDir, 'wb') as file:\n",
    "    cloudpickle.dump(bst3,file)"
   ]
  },
  {
   "cell_type": "code",
   "execution_count": null,
   "metadata": {},
   "outputs": [],
   "source": []
  }
 ],
 "metadata": {
  "kernelspec": {
   "display_name": "Python 3",
   "language": "python",
   "name": "python3"
  },
  "language_info": {
   "codemirror_mode": {
    "name": "ipython",
    "version": 3
   },
   "file_extension": ".py",
   "mimetype": "text/x-python",
   "name": "python",
   "nbconvert_exporter": "python",
   "pygments_lexer": "ipython3",
   "version": "3.6.5"
  }
 },
 "nbformat": 4,
 "nbformat_minor": 2
}

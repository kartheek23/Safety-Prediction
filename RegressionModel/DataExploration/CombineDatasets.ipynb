{
 "cells": [
  {
   "cell_type": "code",
   "execution_count": 1,
   "metadata": {},
   "outputs": [],
   "source": [
    "import pandas as pd\n",
    "import numpy as np"
   ]
  },
  {
   "cell_type": "code",
   "execution_count": 2,
   "metadata": {},
   "outputs": [],
   "source": [
    "import os\n",
    "parDir = os.path.normpath(os.getcwd() + os.sep + os.pardir)"
   ]
  },
  {
   "cell_type": "code",
   "execution_count": 3,
   "metadata": {},
   "outputs": [],
   "source": [
    "feaDir = parDir + '\\\\DataSets\\\\features'\n",
    "labDir = parDir + '\\\\DataSets\\\\labels'\n",
    "merDSDit = parDir + \"\\\\DataSets\\\\MergedDataset\\\\Final.csv\""
   ]
  },
  {
   "cell_type": "code",
   "execution_count": 4,
   "metadata": {},
   "outputs": [],
   "source": [
    "inputCols=['bookingID','Accuracy','Bearing','acceleration_x','acceleration_y',\n",
    "           'acceleration_z','gyro_x','gyro_y','gyro_z','second','Speed']\n",
    "targetCol='label'"
   ]
  },
  {
   "cell_type": "code",
   "execution_count": 5,
   "metadata": {},
   "outputs": [],
   "source": [
    "def readFilesFromFolder(dirToRead):\n",
    "    files = []\n",
    "    #r=root,d=directories,f=file\n",
    "    for r,d,f in os.walk(dirToRead):\n",
    "        for file in f:\n",
    "            if '.csv' in file:\n",
    "                files.append(os.path.join(r,file))\n",
    "    return files\n",
    "    "
   ]
  },
  {
   "cell_type": "code",
   "execution_count": 6,
   "metadata": {},
   "outputs": [],
   "source": [
    "def concatAllFilesInDir(file,inputCols):\n",
    "    np_array_list = []\n",
    "    if(len(file)>1):\n",
    "        for f in file:\n",
    "            df = pd.read_csv(f, index_col=None, header=0)\n",
    "            np_array_list.append(df.as_matrix())\n",
    "        comb_np_array = np.vstack(np_array_list)\n",
    "        big_frame = pd.DataFrame(comb_np_array)\n",
    "        big_frame.columns = inputCols\n",
    "    else:\n",
    "        for f in file:\n",
    "            big_frame = pd.DataFrame(pd.read_csv(f))\n",
    "    return big_frame"
   ]
  },
  {
   "cell_type": "code",
   "execution_count": 7,
   "metadata": {},
   "outputs": [],
   "source": [
    "def mergeBasedonColumn(table1,table2,colName):\n",
    "    merged_table=pd.merge(table1,table2,how='left',on=colName)\n",
    "    return merged_table"
   ]
  },
  {
   "cell_type": "code",
   "execution_count": 8,
   "metadata": {},
   "outputs": [],
   "source": [
    "files=readFilesFromFolder(feaDir)\n",
    "frame=concatAllFilesInDir(files,inputCols)"
   ]
  },
  {
   "cell_type": "code",
   "execution_count": 9,
   "metadata": {},
   "outputs": [],
   "source": [
    "file_lab=readFilesFromFolder(labDir)\n",
    "frame_lab = concatAllFilesInDir(file_lab,inputCols)\n"
   ]
  },
  {
   "cell_type": "code",
   "execution_count": 10,
   "metadata": {},
   "outputs": [],
   "source": [
    "expected_table = mergeBasedonColumn(frame, frame_lab, 'bookingID')"
   ]
  },
  {
   "cell_type": "markdown",
   "metadata": {},
   "source": [
    "# From the DataExploration class we have found that there is class imbalance\n",
    "we will try to undersample the datasets as it is causing the model to train more faster and also giving us better predictions.\n"
   ]
  },
  {
   "cell_type": "code",
   "execution_count": 11,
   "metadata": {},
   "outputs": [],
   "source": [
    "#There is a class imbalance so we are trying to undersample the data for better predictions.\n",
    "def undersample(df,inputCols,targetCol):\n",
    "    #Downsampling code\n",
    "    #Class Count\n",
    "    count_class_0,count_class_1 = df[targetCol].value_counts()\n",
    "    # Divide by class\n",
    "    df_class_0 = df[df[targetCol] == 0]\n",
    "    df_class_1 = df[df[targetCol] == 1]\n",
    "    #Random Under Sampling\n",
    "    df_class_0_under = df_class_0.sample(count_class_1)\n",
    "    df_test_under = pd.concat([df_class_0_under, df_class_1], axis=0)\n",
    "    return df_test_under\n",
    "   "
   ]
  },
  {
   "cell_type": "code",
   "execution_count": 12,
   "metadata": {},
   "outputs": [],
   "source": [
    "df_undersample = undersample(expected_table,inputCols,targetCol)"
   ]
  },
  {
   "cell_type": "code",
   "execution_count": 13,
   "metadata": {},
   "outputs": [],
   "source": [
    "df_undersample.to_csv(merDSDit,index=False)"
   ]
  }
 ],
 "metadata": {
  "kernelspec": {
   "display_name": "Python 3",
   "language": "python",
   "name": "python3"
  },
  "language_info": {
   "codemirror_mode": {
    "name": "ipython",
    "version": 3
   },
   "file_extension": ".py",
   "mimetype": "text/x-python",
   "name": "python",
   "nbconvert_exporter": "python",
   "pygments_lexer": "ipython3",
   "version": "3.6.5"
  }
 },
 "nbformat": 4,
 "nbformat_minor": 2
}
